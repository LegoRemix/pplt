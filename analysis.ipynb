{
 "cells": [
  {
   "cell_type": "code",
   "execution_count": 20,
   "metadata": {},
   "outputs": [],
   "source": [
    "import pandas\n",
    "import glob\n",
    "from collections import defaultdict\n",
    "import os\n",
    "\n",
    "DATA_XFER = \"data_xfer_aggregated\"\n",
    "TP_DOMAINS = \"3p_domains\"\n",
    "DATA_XFER_SUMMARY = \"data_xfer_summary\"\n",
    "file_types = [DATA_XFER, TP_DOMAINS, DATA_XFER_SUMMARY]\n",
    "def get_files():\n",
    "    return glob.glob(\"*/*.csv\")"
   ]
  },
  {
   "cell_type": "code",
   "execution_count": 72,
   "metadata": {},
   "outputs": [],
   "source": [
    "files = get_files()\n",
    "def read_csvs(prefixes, files):\n",
    "    buckets = defaultdict(dict)\n",
    "    for prefix in prefixes:\n",
    "        filtered_files = filter(lambda name : prefix in name, files)\n",
    "        file_pack = map(lambda f : tuple(f.split(os.sep, 1) + [f]), filtered_files)\n",
    "        for k,v,f in file_pack:\n",
    "            buckets[k][prefix] = pandas.read_csv(f, sep=\",\", engine=\"python\")\n",
    "    return buckets\n",
    "\n",
    "data = read_csvs(file_types, files)"
   ]
  },
  {
   "cell_type": "code",
   "execution_count": 76,
   "metadata": {},
   "outputs": [
    {
     "name": "stdout",
     "output_type": "stream",
     "text": [
      "Owner Country\n",
      "AU     0.09\n",
      "CA     0.08\n",
      "DK     0.00\n",
      "FR     0.22\n",
      "IL     0.00\n",
      "MT     0.36\n",
      "NO     0.06\n",
      "RU     0.22\n",
      "SG     0.00\n",
      "UK     0.00\n",
      "US    40.16\n",
      "Name: Percent Total, dtype: float64\n",
      "Owner Country\n",
      "AU     0.02\n",
      "CA     0.08\n",
      "CN     2.84\n",
      "FR     0.09\n",
      "LU     0.32\n",
      "RU     0.52\n",
      "SG     0.00\n",
      "UK     0.15\n",
      "US    21.51\n",
      "Name: Percent Total, dtype: float64\n",
      "Owner Country\n",
      "CA     0.05\n",
      "DE     0.06\n",
      "DK     0.01\n",
      "FR     0.43\n",
      "IL     0.00\n",
      "MT     0.40\n",
      "NL     0.00\n",
      "PL     0.39\n",
      "RU     0.30\n",
      "SG     0.00\n",
      "UK     0.03\n",
      "US    19.85\n",
      "Name: Percent Total, dtype: float64\n"
     ]
    }
   ],
   "source": [
    "XFER_BY_COUNTRY = \"data_xfer_percentage_by_country\"\n",
    "for k in data.keys():\n",
    "    frame = data[k][DATA_XFER]\n",
    "    data[k][DATA_XFER] = frame[~frame[\"Owner Lineage\"].str.contains(\">\")]\n",
    "    data[k][XFER_BY_COUNTRY] = frame.groupby([\"Owner Country\"])[\"Percent Total\"].sum()\n",
    "    print(data[k][XFER_BY_COUNTRY])\n",
    "    "
   ]
  },
  {
   "cell_type": "code",
   "execution_count": null,
   "metadata": {},
   "outputs": [],
   "source": [
    "pr"
   ]
  },
  {
   "cell_type": "code",
   "execution_count": null,
   "metadata": {},
   "outputs": [],
   "source": []
  }
 ],
 "metadata": {
  "kernelspec": {
   "display_name": "Python 3",
   "language": "python",
   "name": "python3"
  },
  "language_info": {
   "codemirror_mode": {
    "name": "ipython",
    "version": 3
   },
   "file_extension": ".py",
   "mimetype": "text/x-python",
   "name": "python",
   "nbconvert_exporter": "python",
   "pygments_lexer": "ipython3",
   "version": "3.6.8"
  }
 },
 "nbformat": 4,
 "nbformat_minor": 2
}
